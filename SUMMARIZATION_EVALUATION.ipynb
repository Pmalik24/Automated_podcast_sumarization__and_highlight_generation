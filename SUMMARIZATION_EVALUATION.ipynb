{
 "cells": [
  {
   "cell_type": "code",
   "execution_count": 8,
   "metadata": {},
   "outputs": [],
   "source": [
    "import pandas as pd\n",
    "pd.options.display.max_rows = 10\n",
    "import numpy as np \n",
    "# pd.set_option('display.max_colwidth', None)\n",
    "import os\n",
    "import torch\n",
    "import re"
   ]
  },
  {
   "cell_type": "markdown",
   "metadata": {},
   "source": [
    "### **Extracting Test Summaries for Ben Shapiro's Podcast, as they are the only one's available**"
   ]
  },
  {
   "cell_type": "code",
   "execution_count": 6,
   "metadata": {},
   "outputs": [],
   "source": [
    "import requests\n",
    "from bs4 import BeautifulSoup\n",
    "import string\n",
    "from xml.etree import ElementTree\n",
    "\n",
    "def rss_to_dataframe_ben(rss_url):\n",
    "    response = requests.get(rss_url)\n",
    "    root = ElementTree.fromstring(response.content)\n",
    "    channel = root.find('channel')\n",
    "    items = channel.findall('item')\n",
    "\n",
    "    data = []\n",
    "    for item in items:\n",
    "        title = item.find('title').text\n",
    "        # Use regular expression to extract the episode number more reliably\n",
    "        episode_number_match = re.search(r'Ep\\.?\\s*(\\d+)', title, re.IGNORECASE)\n",
    "        episode_number = episode_number_match.group(1) if episode_number_match else 'Unknown'\n",
    "\n",
    "        # Extract guest name more reliably\n",
    "        guest_name = title.split('-')[1].strip() if '-' in title else 'Unknown'\n",
    "        download_url = item.find('enclosure').get('url')\n",
    "        pub_date = item.find('pubDate').text\n",
    "\n",
    "        data.append({\n",
    "            'episode_number': episode_number,\n",
    "            'guest_name': guest_name,\n",
    "            'title': title,\n",
    "            'download_url': download_url,\n",
    "            'publication_date': pub_date,\n",
    "        })\n",
    "\n",
    "    df = pd.DataFrame(data)\n",
    "    return df"
   ]
  },
  {
   "cell_type": "code",
   "execution_count": 9,
   "metadata": {},
   "outputs": [
    {
     "data": {
      "text/html": [
       "<div>\n",
       "<style scoped>\n",
       "    .dataframe tbody tr th:only-of-type {\n",
       "        vertical-align: middle;\n",
       "    }\n",
       "\n",
       "    .dataframe tbody tr th {\n",
       "        vertical-align: top;\n",
       "    }\n",
       "\n",
       "    .dataframe thead th {\n",
       "        text-align: right;\n",
       "    }\n",
       "</style>\n",
       "<table border=\"1\" class=\"dataframe\">\n",
       "  <thead>\n",
       "    <tr style=\"text-align: right;\">\n",
       "      <th></th>\n",
       "      <th>episode_number</th>\n",
       "      <th>guest_name</th>\n",
       "      <th>title</th>\n",
       "      <th>download_url</th>\n",
       "      <th>publication_date</th>\n",
       "    </tr>\n",
       "  </thead>\n",
       "  <tbody>\n",
       "    <tr>\n",
       "      <th>0</th>\n",
       "      <td>1946</td>\n",
       "      <td>OJ Simpson Killed By Cancer</td>\n",
       "      <td>Ep. 1946 - OJ Simpson Killed By Cancer</td>\n",
       "      <td>https://claritaspod.com/measure/arttrk.com/p/2...</td>\n",
       "      <td>Fri, 12 Apr 2024 15:24:47 +0000</td>\n",
       "    </tr>\n",
       "    <tr>\n",
       "      <th>1</th>\n",
       "      <td>1945</td>\n",
       "      <td>Inflation Comes In HOT</td>\n",
       "      <td>Ep. 1945 - Inflation Comes In HOT</td>\n",
       "      <td>https://claritaspod.com/measure/arttrk.com/p/2...</td>\n",
       "      <td>Thu, 11 Apr 2024 14:44:24 +0000</td>\n",
       "    </tr>\n",
       "    <tr>\n",
       "      <th>2</th>\n",
       "      <td>1944</td>\n",
       "      <td>The Abortion Issue Explodes</td>\n",
       "      <td>Ep. 1944 - The Abortion Issue Explodes</td>\n",
       "      <td>https://claritaspod.com/measure/arttrk.com/p/2...</td>\n",
       "      <td>Wed, 10 Apr 2024 15:06:04 +0000</td>\n",
       "    </tr>\n",
       "    <tr>\n",
       "      <th>3</th>\n",
       "      <td>1943</td>\n",
       "      <td>Blotting Out The Sun</td>\n",
       "      <td>Ep. 1943 - Blotting Out The Sun</td>\n",
       "      <td>https://claritaspod.com/measure/arttrk.com/p/2...</td>\n",
       "      <td>Tue, 9 Apr 2024 14:53:39 +0000</td>\n",
       "    </tr>\n",
       "    <tr>\n",
       "      <th>4</th>\n",
       "      <td>1942</td>\n",
       "      <td>Did Joe Biden Just Save Hamas?</td>\n",
       "      <td>Ep. 1942 - Did Joe Biden Just Save Hamas?</td>\n",
       "      <td>https://claritaspod.com/measure/arttrk.com/p/2...</td>\n",
       "      <td>Mon, 8 Apr 2024 15:22:40 +0000</td>\n",
       "    </tr>\n",
       "    <tr>\n",
       "      <th>...</th>\n",
       "      <td>...</td>\n",
       "      <td>...</td>\n",
       "      <td>...</td>\n",
       "      <td>...</td>\n",
       "      <td>...</td>\n",
       "    </tr>\n",
       "    <tr>\n",
       "      <th>2317</th>\n",
       "      <td>5</td>\n",
       "      <td>Rubios PC Problem</td>\n",
       "      <td>Ep. 5 - Rubios PC Problem</td>\n",
       "      <td>https://claritaspod.com/measure/arttrk.com/p/2...</td>\n",
       "      <td>Wed, 7 Oct 2015 15:00:00 +0000</td>\n",
       "    </tr>\n",
       "    <tr>\n",
       "      <th>2318</th>\n",
       "      <td>4</td>\n",
       "      <td>Russia in Syria</td>\n",
       "      <td>Ep. 4 - Russia in Syria</td>\n",
       "      <td>https://claritaspod.com/measure/arttrk.com/p/2...</td>\n",
       "      <td>Thu, 1 Oct 2015 15:00:00 +0000</td>\n",
       "    </tr>\n",
       "    <tr>\n",
       "      <th>2319</th>\n",
       "      <td>3</td>\n",
       "      <td>Cruz in the Crosshairs</td>\n",
       "      <td>Ep. 3 - Cruz in the Crosshairs</td>\n",
       "      <td>https://claritaspod.com/measure/arttrk.com/p/2...</td>\n",
       "      <td>Wed, 30 Sep 2015 15:00:00 +0000</td>\n",
       "    </tr>\n",
       "    <tr>\n",
       "      <th>2320</th>\n",
       "      <td>2</td>\n",
       "      <td>Shout Your Abortion</td>\n",
       "      <td>Ep. 2 - Shout Your Abortion</td>\n",
       "      <td>https://claritaspod.com/measure/arttrk.com/p/2...</td>\n",
       "      <td>Tue, 22 Sep 2015 15:00:00 +0000</td>\n",
       "    </tr>\n",
       "    <tr>\n",
       "      <th>2321</th>\n",
       "      <td>1</td>\n",
       "      <td>The Obama Administration Excuses Child</td>\n",
       "      <td>Ep. 1 - The Obama Administration Excuses Child...</td>\n",
       "      <td>https://claritaspod.com/measure/arttrk.com/p/2...</td>\n",
       "      <td>Mon, 21 Sep 2015 07:00:00 +0000</td>\n",
       "    </tr>\n",
       "  </tbody>\n",
       "</table>\n",
       "<p>2322 rows × 5 columns</p>\n",
       "</div>"
      ],
      "text/plain": [
       "     episode_number                              guest_name  \\\n",
       "0              1946             OJ Simpson Killed By Cancer   \n",
       "1              1945                  Inflation Comes In HOT   \n",
       "2              1944             The Abortion Issue Explodes   \n",
       "3              1943                    Blotting Out The Sun   \n",
       "4              1942          Did Joe Biden Just Save Hamas?   \n",
       "...             ...                                     ...   \n",
       "2317              5                       Rubios PC Problem   \n",
       "2318              4                         Russia in Syria   \n",
       "2319              3                  Cruz in the Crosshairs   \n",
       "2320              2                     Shout Your Abortion   \n",
       "2321              1  The Obama Administration Excuses Child   \n",
       "\n",
       "                                                  title  \\\n",
       "0                Ep. 1946 - OJ Simpson Killed By Cancer   \n",
       "1                     Ep. 1945 - Inflation Comes In HOT   \n",
       "2                Ep. 1944 - The Abortion Issue Explodes   \n",
       "3                       Ep. 1943 - Blotting Out The Sun   \n",
       "4             Ep. 1942 - Did Joe Biden Just Save Hamas?   \n",
       "...                                                 ...   \n",
       "2317                          Ep. 5 - Rubios PC Problem   \n",
       "2318                            Ep. 4 - Russia in Syria   \n",
       "2319                     Ep. 3 - Cruz in the Crosshairs   \n",
       "2320                        Ep. 2 - Shout Your Abortion   \n",
       "2321  Ep. 1 - The Obama Administration Excuses Child...   \n",
       "\n",
       "                                           download_url  \\\n",
       "0     https://claritaspod.com/measure/arttrk.com/p/2...   \n",
       "1     https://claritaspod.com/measure/arttrk.com/p/2...   \n",
       "2     https://claritaspod.com/measure/arttrk.com/p/2...   \n",
       "3     https://claritaspod.com/measure/arttrk.com/p/2...   \n",
       "4     https://claritaspod.com/measure/arttrk.com/p/2...   \n",
       "...                                                 ...   \n",
       "2317  https://claritaspod.com/measure/arttrk.com/p/2...   \n",
       "2318  https://claritaspod.com/measure/arttrk.com/p/2...   \n",
       "2319  https://claritaspod.com/measure/arttrk.com/p/2...   \n",
       "2320  https://claritaspod.com/measure/arttrk.com/p/2...   \n",
       "2321  https://claritaspod.com/measure/arttrk.com/p/2...   \n",
       "\n",
       "                     publication_date  \n",
       "0     Fri, 12 Apr 2024 15:24:47 +0000  \n",
       "1     Thu, 11 Apr 2024 14:44:24 +0000  \n",
       "2     Wed, 10 Apr 2024 15:06:04 +0000  \n",
       "3      Tue, 9 Apr 2024 14:53:39 +0000  \n",
       "4      Mon, 8 Apr 2024 15:22:40 +0000  \n",
       "...                               ...  \n",
       "2317   Wed, 7 Oct 2015 15:00:00 +0000  \n",
       "2318   Thu, 1 Oct 2015 15:00:00 +0000  \n",
       "2319  Wed, 30 Sep 2015 15:00:00 +0000  \n",
       "2320  Tue, 22 Sep 2015 15:00:00 +0000  \n",
       "2321  Mon, 21 Sep 2015 07:00:00 +0000  \n",
       "\n",
       "[2322 rows x 5 columns]"
      ]
     },
     "execution_count": 9,
     "metadata": {},
     "output_type": "execute_result"
    }
   ],
   "source": [
    "rss_url_ben = \"https://feeds.simplecast.com/C0fPpQ64\"\n",
    "df_ben = rss_to_dataframe_ben(rss_url_ben)\n",
    "df_ben"
   ]
  },
  {
   "cell_type": "code",
   "execution_count": 16,
   "metadata": {},
   "outputs": [
    {
     "name": "stdout",
     "output_type": "stream",
     "text": [
      "<class 'pandas.core.frame.DataFrame'>\n",
      "Index: 1945 entries, 0 to 2321\n",
      "Data columns (total 5 columns):\n",
      " #   Column            Non-Null Count  Dtype  \n",
      "---  ------            --------------  -----  \n",
      " 0   episode_number    1945 non-null   float64\n",
      " 1   guest_name        1945 non-null   object \n",
      " 2   title             1945 non-null   object \n",
      " 3   download_url      1945 non-null   object \n",
      " 4   publication_date  1945 non-null   object \n",
      "dtypes: float64(1), object(4)\n",
      "memory usage: 91.2+ KB\n"
     ]
    }
   ],
   "source": [
    "df_ben['episode_number'] = pd.to_numeric(df_ben['episode_number'], errors='coerce')\n",
    "df_ben.dropna(subset=['episode_number'], inplace=True)\n",
    "df_ben = df_ben.loc[df_ben['guest_name'] != 'Unknown']\n",
    "# df_ben['episode_number'].astype(int)\n"
   ]
  },
  {
   "cell_type": "code",
   "execution_count": 17,
   "metadata": {},
   "outputs": [
    {
     "name": "stderr",
     "output_type": "stream",
     "text": [
      "/var/folders/jb/rytm79zx10zcs2wb4zr2ptxr0000gn/T/ipykernel_71102/1588795340.py:1: SettingWithCopyWarning: \n",
      "A value is trying to be set on a copy of a slice from a DataFrame.\n",
      "Try using .loc[row_indexer,col_indexer] = value instead\n",
      "\n",
      "See the caveats in the documentation: https://pandas.pydata.org/pandas-docs/stable/user_guide/indexing.html#returning-a-view-versus-a-copy\n",
      "  df_ben['episode_number'] = df_ben['episode_number'].astype(int)\n"
     ]
    }
   ],
   "source": [
    "df_ben['episode_number'] = df_ben['episode_number'].astype(int)"
   ]
  },
  {
   "cell_type": "code",
   "execution_count": 18,
   "metadata": {},
   "outputs": [
    {
     "name": "stdout",
     "output_type": "stream",
     "text": [
      "<class 'pandas.core.frame.DataFrame'>\n",
      "Index: 1945 entries, 0 to 2321\n",
      "Data columns (total 5 columns):\n",
      " #   Column            Non-Null Count  Dtype \n",
      "---  ------            --------------  ----- \n",
      " 0   episode_number    1945 non-null   int64 \n",
      " 1   guest_name        1945 non-null   object\n",
      " 2   title             1945 non-null   object\n",
      " 3   download_url      1945 non-null   object\n",
      " 4   publication_date  1945 non-null   object\n",
      "dtypes: int64(1), object(4)\n",
      "memory usage: 91.2+ KB\n"
     ]
    }
   ],
   "source": [
    "df_ben.info()"
   ]
  },
  {
   "cell_type": "code",
   "execution_count": 19,
   "metadata": {},
   "outputs": [],
   "source": [
    "# Filter the DataFrame to keep episode numbers from 1919 to 1772\n",
    "filtered_df = df_ben[(df_ben['episode_number'] <= 1919) & (df_ben['episode_number'] >= 1772)]"
   ]
  },
  {
   "cell_type": "code",
   "execution_count": 20,
   "metadata": {},
   "outputs": [
    {
     "data": {
      "text/html": [
       "<div>\n",
       "<style scoped>\n",
       "    .dataframe tbody tr th:only-of-type {\n",
       "        vertical-align: middle;\n",
       "    }\n",
       "\n",
       "    .dataframe tbody tr th {\n",
       "        vertical-align: top;\n",
       "    }\n",
       "\n",
       "    .dataframe thead th {\n",
       "        text-align: right;\n",
       "    }\n",
       "</style>\n",
       "<table border=\"1\" class=\"dataframe\">\n",
       "  <thead>\n",
       "    <tr style=\"text-align: right;\">\n",
       "      <th></th>\n",
       "      <th>episode_number</th>\n",
       "      <th>guest_name</th>\n",
       "      <th>title</th>\n",
       "      <th>download_url</th>\n",
       "      <th>publication_date</th>\n",
       "    </tr>\n",
       "  </thead>\n",
       "  <tbody>\n",
       "    <tr>\n",
       "      <th>34</th>\n",
       "      <td>1919</td>\n",
       "      <td>Nikki Haley Is OUT</td>\n",
       "      <td>Ep. 1919 - Nikki Haley Is OUT</td>\n",
       "      <td>https://claritaspod.com/measure/arttrk.com/p/2...</td>\n",
       "      <td>Wed, 6 Mar 2024 16:20:13 +0000</td>\n",
       "    </tr>\n",
       "    <tr>\n",
       "      <th>35</th>\n",
       "      <td>1918</td>\n",
       "      <td>Peeing in Your Own Eyes To Stop Donald Trump</td>\n",
       "      <td>Ep. 1918 - Peeing in Your Own Eyes To Stop Don...</td>\n",
       "      <td>https://claritaspod.com/measure/arttrk.com/p/2...</td>\n",
       "      <td>Tue, 5 Mar 2024 16:03:39 +0000</td>\n",
       "    </tr>\n",
       "    <tr>\n",
       "      <th>36</th>\n",
       "      <td>1917</td>\n",
       "      <td>UNANIMOUS Supreme Court Puts Trump Back On The...</td>\n",
       "      <td>Ep. 1917 - UNANIMOUS Supreme Court Puts Trump ...</td>\n",
       "      <td>https://claritaspod.com/measure/arttrk.com/p/2...</td>\n",
       "      <td>Mon, 4 Mar 2024 16:14:37 +0000</td>\n",
       "    </tr>\n",
       "    <tr>\n",
       "      <th>38</th>\n",
       "      <td>1916</td>\n",
       "      <td>Duel At The Border</td>\n",
       "      <td>Ep. 1916 - Duel At The Border</td>\n",
       "      <td>https://claritaspod.com/measure/arttrk.com/p/2...</td>\n",
       "      <td>Fri, 1 Mar 2024 16:18:45 +0000</td>\n",
       "    </tr>\n",
       "    <tr>\n",
       "      <th>39</th>\n",
       "      <td>1915</td>\n",
       "      <td>THE DIRTY SECRET: Trump Is The 2024 Moderate</td>\n",
       "      <td>Ep. 1915 - THE DIRTY SECRET: Trump Is The 2024...</td>\n",
       "      <td>https://claritaspod.com/measure/arttrk.com/p/2...</td>\n",
       "      <td>Thu, 29 Feb 2024 16:15:29 +0000</td>\n",
       "    </tr>\n",
       "    <tr>\n",
       "      <th>...</th>\n",
       "      <td>...</td>\n",
       "      <td>...</td>\n",
       "      <td>...</td>\n",
       "      <td>...</td>\n",
       "      <td>...</td>\n",
       "    </tr>\n",
       "    <tr>\n",
       "      <th>228</th>\n",
       "      <td>1776</td>\n",
       "      <td>MORE Trump Charges?!</td>\n",
       "      <td>Ep. 1776 - MORE Trump Charges?!</td>\n",
       "      <td>https://claritaspod.com/measure/arttrk.com/p/2...</td>\n",
       "      <td>Fri, 28 Jul 2023 15:45:00 +0000</td>\n",
       "    </tr>\n",
       "    <tr>\n",
       "      <th>229</th>\n",
       "      <td>1775</td>\n",
       "      <td>The Hunter Biden Sweetheart Deal Falls Apart</td>\n",
       "      <td>Ep. 1775 - The Hunter Biden Sweetheart Deal Fa...</td>\n",
       "      <td>https://claritaspod.com/measure/arttrk.com/p/2...</td>\n",
       "      <td>Thu, 27 Jul 2023 15:45:00 +0000</td>\n",
       "    </tr>\n",
       "    <tr>\n",
       "      <th>230</th>\n",
       "      <td>1774</td>\n",
       "      <td>Hunter's Sweetheart Plea Deal and The Continui...</td>\n",
       "      <td>Ep. 1774 - Hunter's Sweetheart Plea Deal and T...</td>\n",
       "      <td>https://claritaspod.com/measure/arttrk.com/p/2...</td>\n",
       "      <td>Wed, 26 Jul 2023 15:45:00 +0000</td>\n",
       "    </tr>\n",
       "    <tr>\n",
       "      <th>231</th>\n",
       "      <td>1773</td>\n",
       "      <td>Biden Will Be Impeached</td>\n",
       "      <td>Ep. 1773 - Biden Will Be Impeached</td>\n",
       "      <td>https://claritaspod.com/measure/arttrk.com/p/2...</td>\n",
       "      <td>Tue, 25 Jul 2023 15:45:00 +0000</td>\n",
       "    </tr>\n",
       "    <tr>\n",
       "      <th>232</th>\n",
       "      <td>1772</td>\n",
       "      <td>Barbie Is Garbage, But You’re Not Allowed To S...</td>\n",
       "      <td>Ep. 1772 - Barbie Is Garbage, But You’re Not A...</td>\n",
       "      <td>https://claritaspod.com/measure/arttrk.com/p/2...</td>\n",
       "      <td>Mon, 24 Jul 2023 15:45:00 +0000</td>\n",
       "    </tr>\n",
       "  </tbody>\n",
       "</table>\n",
       "<p>148 rows × 5 columns</p>\n",
       "</div>"
      ],
      "text/plain": [
       "     episode_number                                         guest_name  \\\n",
       "34             1919                                 Nikki Haley Is OUT   \n",
       "35             1918       Peeing in Your Own Eyes To Stop Donald Trump   \n",
       "36             1917  UNANIMOUS Supreme Court Puts Trump Back On The...   \n",
       "38             1916                                 Duel At The Border   \n",
       "39             1915       THE DIRTY SECRET: Trump Is The 2024 Moderate   \n",
       "..              ...                                                ...   \n",
       "228            1776                               MORE Trump Charges?!   \n",
       "229            1775       The Hunter Biden Sweetheart Deal Falls Apart   \n",
       "230            1774  Hunter's Sweetheart Plea Deal and The Continui...   \n",
       "231            1773                            Biden Will Be Impeached   \n",
       "232            1772  Barbie Is Garbage, But You’re Not Allowed To S...   \n",
       "\n",
       "                                                 title  \\\n",
       "34                       Ep. 1919 - Nikki Haley Is OUT   \n",
       "35   Ep. 1918 - Peeing in Your Own Eyes To Stop Don...   \n",
       "36   Ep. 1917 - UNANIMOUS Supreme Court Puts Trump ...   \n",
       "38                       Ep. 1916 - Duel At The Border   \n",
       "39   Ep. 1915 - THE DIRTY SECRET: Trump Is The 2024...   \n",
       "..                                                 ...   \n",
       "228                    Ep. 1776 - MORE Trump Charges?!   \n",
       "229  Ep. 1775 - The Hunter Biden Sweetheart Deal Fa...   \n",
       "230  Ep. 1774 - Hunter's Sweetheart Plea Deal and T...   \n",
       "231                 Ep. 1773 - Biden Will Be Impeached   \n",
       "232  Ep. 1772 - Barbie Is Garbage, But You’re Not A...   \n",
       "\n",
       "                                          download_url  \\\n",
       "34   https://claritaspod.com/measure/arttrk.com/p/2...   \n",
       "35   https://claritaspod.com/measure/arttrk.com/p/2...   \n",
       "36   https://claritaspod.com/measure/arttrk.com/p/2...   \n",
       "38   https://claritaspod.com/measure/arttrk.com/p/2...   \n",
       "39   https://claritaspod.com/measure/arttrk.com/p/2...   \n",
       "..                                                 ...   \n",
       "228  https://claritaspod.com/measure/arttrk.com/p/2...   \n",
       "229  https://claritaspod.com/measure/arttrk.com/p/2...   \n",
       "230  https://claritaspod.com/measure/arttrk.com/p/2...   \n",
       "231  https://claritaspod.com/measure/arttrk.com/p/2...   \n",
       "232  https://claritaspod.com/measure/arttrk.com/p/2...   \n",
       "\n",
       "                    publication_date  \n",
       "34    Wed, 6 Mar 2024 16:20:13 +0000  \n",
       "35    Tue, 5 Mar 2024 16:03:39 +0000  \n",
       "36    Mon, 4 Mar 2024 16:14:37 +0000  \n",
       "38    Fri, 1 Mar 2024 16:18:45 +0000  \n",
       "39   Thu, 29 Feb 2024 16:15:29 +0000  \n",
       "..                               ...  \n",
       "228  Fri, 28 Jul 2023 15:45:00 +0000  \n",
       "229  Thu, 27 Jul 2023 15:45:00 +0000  \n",
       "230  Wed, 26 Jul 2023 15:45:00 +0000  \n",
       "231  Tue, 25 Jul 2023 15:45:00 +0000  \n",
       "232  Mon, 24 Jul 2023 15:45:00 +0000  \n",
       "\n",
       "[148 rows x 5 columns]"
      ]
     },
     "execution_count": 20,
     "metadata": {},
     "output_type": "execute_result"
    }
   ],
   "source": [
    "filtered_df"
   ]
  },
  {
   "cell_type": "code",
   "execution_count": 21,
   "metadata": {},
   "outputs": [],
   "source": [
    "\n",
    "def rss_to_summaries(rss_url, start_ep=1919, end_ep=1772):\n",
    "    response = requests.get(rss_url)\n",
    "    root = ElementTree.fromstring(response.content)\n",
    "    channel = root.find('channel')\n",
    "    items = channel.findall('item')\n",
    "\n",
    "    summaries = []\n",
    "    for item in items:\n",
    "        title = item.find('title').text\n",
    "        # Use regular expression to extract the episode number more reliably\n",
    "        episode_number_match = re.search(r'Ep\\.?\\s*(\\d+)', title, re.IGNORECASE)\n",
    "        if episode_number_match:\n",
    "            episode_number = int(episode_number_match.group(1))\n",
    "            # Filter episodes within the specified range\n",
    "            if end_ep <= episode_number <= start_ep:\n",
    "                summary_element = item.find('.//{http://www.itunes.com/dtds/podcast-1.0.dtd}summary')\n",
    "                summary_text = summary_element.text if summary_element is not None else \"No summary available\"\n",
    "                summaries.append(summary_text)\n",
    "\n",
    "    return summaries\n",
    "\n",
    "\n"
   ]
  },
  {
   "cell_type": "code",
   "execution_count": null,
   "metadata": {},
   "outputs": [],
   "source": [
    "# Example usage\n",
    "rss_url = \"https://feeds.simplecast.com/C0fPpQ64\"\n",
    "episode_summaries = rss_to_summaries(rss_url)\n",
    "\n",
    "episode_summaries"
   ]
  },
  {
   "cell_type": "code",
   "execution_count": 23,
   "metadata": {},
   "outputs": [
    {
     "data": {
      "text/plain": [
       "148"
      ]
     },
     "execution_count": 23,
     "metadata": {},
     "output_type": "execute_result"
    }
   ],
   "source": [
    "len(episode_summaries)"
   ]
  },
  {
   "cell_type": "code",
   "execution_count": 36,
   "metadata": {},
   "outputs": [
    {
     "data": {
      "text/plain": [
       "['Former UN Ambassador Nikki Haley drops out of the race; Arizona Senator Krysten Sinema decides not to run after all; and Joe Biden quotes the Cookie Monster as he prepares for his most consequential State of the Union address.\\n\\nClick here to join the member exclusive portion of my show: https://utm.io/ueSEj\\n\\nEp.1919\\n\\n- - -\\xa0\\n\\nDailyWire+:\\n\\nWatch Bill Whittle’s An Empire of Terror only on DailyWire+: https://bit.ly/4aink3N\\n\\nUnlock your Bentkey 14-day free trial here: https://bit.ly/3GSz8go\\n\\nBecome a DailyWire+ member to gain access to movies, shows, documentaries, kids entertainment and more: https://utm.io/ueMfc\\xa0\\n\\nGet your Ben Shapiro merch here: https://bit.ly/3TAu2cw\\n\\n\\xa0- - -\\xa0\\n\\nToday’s Sponsors:\\n\\nPureTalk - Get a FREE Samsung 5G smartphone. Enter promo code: Shapiro at\\xa0 https://www.puretalkusa.com/landing/shapiro\\n\\nCurrent - Simplify your banking with Current today! http://www.current.com/shapiro\\n\\nFood For The Poor - Donate Today! Text ‘Plate’ to 51555 or visit https://www.foodforthepoor.org/shapiro\\n\\nZipRecruiter - Try ZipRecruiter for FREE: https://www.ziprecruiter.com/dailywire\\n\\n- - -\\n\\nSocials:\\n\\nFollow on Twitter: https://bit.ly/3cXUn53\\xa0\\n\\nFollow on Instagram: https://bit.ly/3QtuibJ\\xa0\\n\\nFollow on Facebook: https://bit.ly/3TTirqd\\xa0\\n\\nSubscribe on YouTube: https://bit.ly/3RPyBiB\\xa0\\n',\n",
       " 'The Supreme Court rules in favor of keeping Trump on the ballot, and the Left melts down; the Biden administration unleashes its foreign policy envoy to teach\\xa0GenderQueer\\xa0to the world; and New York and California hit on a new crime strategy.\\n\\nClick here to join the member exclusive portion of my show: https://utm.io/ueSEj\\n\\nEp.1918\\n\\n- - -\\xa0\\n\\nDailyWire+:\\u2028\\n\\nTune in on 3.7.24 at 8:30 PM ET for another Daily Wire Backstage exclusively on DailyWire+\\n\\nUnlock your Bentkey 14-day free trial here: https://bit.ly/3GSz8go\\n\\nGet your Ben Shapiro merch here: https://bit.ly/3TAu2cw\\n\\n\\xa0- - -\\xa0\\n\\nToday’s Sponsors:\\n\\nBirch Gold - Open an IRA in GOLD and get a FREE infokit. Text \"BEN\" to 989898. http://www.birchgold.com/Ben\\xa0\\n\\nGrand Canyon University - Find your purpose at Grand Canyon University: https://www.gcu.edu/\\n\\nRamp - Get $250 off when you join Ramp. Go to http://www.ramp.com/Shapiro\\n\\nBalance of Nature - Start your journey to better health! Get 35% off your first order as a preferred customer + a FREE Fiber & Spice. Use promo code SHAPIRO at checkout: https://www.balanceofnature.com/\\n\\n- - -\\n\\nSocials:\\n\\nFollow on Twitter: https://bit.ly/3cXUn53\\xa0\\n\\nFollow on Instagram: https://bit.ly/3QtuibJ\\xa0\\n\\nFollow on Facebook: https://bit.ly/3TTirqd\\xa0\\n\\nSubscribe on YouTube: https://bit.ly/3RPyBiB\\xa0']"
      ]
     },
     "execution_count": 36,
     "metadata": {},
     "output_type": "execute_result"
    }
   ],
   "source": [
    "episode_summaries[:2]"
   ]
  },
  {
   "cell_type": "code",
   "execution_count": 29,
   "metadata": {},
   "outputs": [],
   "source": [
    "df = pd.read_csv('Final_df_with_summaries.csv')\n",
    "gen_summaries = df['summaries'].to_list()"
   ]
  },
  {
   "cell_type": "code",
   "execution_count": 30,
   "metadata": {},
   "outputs": [
    {
     "data": {
      "text/plain": [
       "['well it is the end of the road for nickey haley the former you an ambassador under a donald trump former governor of south carolina she is droping out of the race to day because donald trum dominated supertuesday. She is not going to announce an indorsement on wednesday however she is going to encourage donal trump to earn the support of republicans and independent voters who have backed her. she is hoping that he picks her as sort of a unity ticket bot given his dominant performente in the primaryes very unlikely.',\n",
       " 'well yesterday the supreme court disappointed every one on the far left by ruling nin nothing that actually states cant just random we take presidential candidates off the ballat. If you are going to defind insurrection under the fourteenth amendment that have to be done by congress not by some mirando at the state level. The nine o decision has made people very very very angry on the left they believe that they understood the law and by understood the waw they mean that they thought that they finally had trump every time they think they have trump is the ending of a schooby du cartun.']"
      ]
     },
     "execution_count": 30,
     "metadata": {},
     "output_type": "execute_result"
    }
   ],
   "source": [
    "gen_summaries[:2]"
   ]
  },
  {
   "cell_type": "code",
   "execution_count": 37,
   "metadata": {},
   "outputs": [],
   "source": [
    "def clean_summaries_first_sentence(summaries):\n",
    "    cleaned_summaries = []\n",
    "    for summary in summaries:\n",
    "        # Regex to find the first sentence ending with a period followed by a space, newline or end of string\n",
    "        first_sentence = re.match(r'([^.]*\\.)', summary)\n",
    "        if first_sentence:\n",
    "            cleaned_summaries.append(first_sentence.group(1).strip())\n",
    "        else:\n",
    "            # If no period is found, use the whole summary\n",
    "            cleaned_summaries.append(summary.strip())\n",
    "    return cleaned_summaries\n",
    "\n",
    "\n",
    "cleaned_ep_sums = clean_summaries_first_sentence(episode_summaries)"
   ]
  },
  {
   "cell_type": "code",
   "execution_count": 39,
   "metadata": {},
   "outputs": [
    {
     "data": {
      "text/plain": [
       "['Former UN Ambassador Nikki Haley drops out of the race; Arizona Senator Krysten Sinema decides not to run after all; and Joe Biden quotes the Cookie Monster as he prepares for his most consequential State of the Union address.',\n",
       " 'The Supreme Court rules in favor of keeping Trump on the ballot, and the Left melts down; the Biden administration unleashes its foreign policy envoy to teach\\xa0GenderQueer\\xa0to the world; and New York and California hit on a new crime strategy.']"
      ]
     },
     "execution_count": 39,
     "metadata": {},
     "output_type": "execute_result"
    }
   ],
   "source": [
    "cleaned_ep_sums[:2]"
   ]
  },
  {
   "cell_type": "code",
   "execution_count": 40,
   "metadata": {},
   "outputs": [
    {
     "data": {
      "text/plain": [
       "520"
      ]
     },
     "execution_count": 40,
     "metadata": {},
     "output_type": "execute_result"
    }
   ],
   "source": [
    "len(gen_summaries[0])"
   ]
  },
  {
   "cell_type": "code",
   "execution_count": 41,
   "metadata": {},
   "outputs": [
    {
     "data": {
      "text/plain": [
       "226"
      ]
     },
     "execution_count": 41,
     "metadata": {},
     "output_type": "execute_result"
    }
   ],
   "source": [
    "len(cleaned_ep_sums[0])"
   ]
  },
  {
   "cell_type": "code",
   "execution_count": 42,
   "metadata": {},
   "outputs": [],
   "source": [
    "def standardize_summaries(summaries):\n",
    "    standardized_summaries = []\n",
    "    for summary in summaries:\n",
    "        # Lowercase the summary\n",
    "        summary = summary.lower()\n",
    "        \n",
    "        # Simplify complex structures\n",
    "        summary = re.sub(r'; and', '.', summary)  # Split compound sentences into simpler sentences\n",
    "        \n",
    "        # Normalize whitespace\n",
    "        summary = re.sub(r'\\s+', ' ', summary).strip()\n",
    "        \n",
    "        standardized_summaries.append(summary)\n",
    "    return standardized_summaries\n"
   ]
  },
  {
   "cell_type": "code",
   "execution_count": 43,
   "metadata": {},
   "outputs": [],
   "source": [
    "stnd_cleaned_ep_sums = standardize_summaries(cleaned_ep_sums)"
   ]
  },
  {
   "cell_type": "code",
   "execution_count": 44,
   "metadata": {},
   "outputs": [
    {
     "data": {
      "text/plain": [
       "['former un ambassador nikki haley drops out of the race; arizona senator krysten sinema decides not to run after all. joe biden quotes the cookie monster as he prepares for his most consequential state of the union address.',\n",
       " 'the supreme court rules in favor of keeping trump on the ballot, and the left melts down; the biden administration unleashes its foreign policy envoy to teach genderqueer to the world. new york and california hit on a new crime strategy.']"
      ]
     },
     "execution_count": 44,
     "metadata": {},
     "output_type": "execute_result"
    }
   ],
   "source": [
    "stnd_cleaned_ep_sums[:2]"
   ]
  },
  {
   "cell_type": "code",
   "execution_count": 58,
   "metadata": {},
   "outputs": [],
   "source": [
    "import re\n",
    "\n",
    "def advanced_standardize_summaries(summaries):\n",
    "    standardized_summaries = []\n",
    "    for summary in summaries:\n",
    "        # Lowercase the summary\n",
    "        summary = summary.lower()\n",
    "        \n",
    "        # Remove URLs\n",
    "        summary = re.sub(r'http[s]?://\\S+', '', summary)  # Regex to remove URLs\n",
    "        \n",
    "        # Truncate text starting from '? click'\n",
    "        summary = re.sub(r'\\? click.*', '', summary, flags=re.IGNORECASE)\n",
    "        \n",
    "        # Remove semicolons\n",
    "        summary = summary.replace(';', '')\n",
    "        \n",
    "        # Simplify complex structures\n",
    "        summary = re.sub(r'; and', '.', summary)  # Replace remaining semicolons if any\n",
    "        \n",
    "        # Normalize whitespace\n",
    "        summary = re.sub(r'\\s+', ' ', summary).strip()\n",
    "        \n",
    "        standardized_summaries.append(summary)\n",
    "    return standardized_summaries\n",
    "\n",
    "\n"
   ]
  },
  {
   "cell_type": "code",
   "execution_count": 59,
   "metadata": {},
   "outputs": [],
   "source": [
    "adv_stnd_cleaned_eps = advanced_standardize_summaries(cleaned_ep_sums)"
   ]
  },
  {
   "cell_type": "code",
   "execution_count": null,
   "metadata": {},
   "outputs": [],
   "source": [
    "adv_stnd_cleaned_eps"
   ]
  },
  {
   "cell_type": "code",
   "execution_count": 65,
   "metadata": {},
   "outputs": [],
   "source": [
    "if len(df) >= 148:\n",
    "    # Create the new column and initialize with None or an empty string\n",
    "    df['original_summaries_cleaned_standardized'] = None\n",
    "    \n",
    "    # Assign the cleaned summaries to the first 148 rows\n",
    "    df.loc[0:147, 'original_summaries_cleaned_standardized'] = adv_stnd_cleaned_eps\n",
    "else:\n",
    "    print(\"DataFrame is too short to assign 148 summaries.\")"
   ]
  },
  {
   "cell_type": "markdown",
   "metadata": {},
   "source": [
    "### **Now this CSV File has test summaries**"
   ]
  },
  {
   "cell_type": "code",
   "execution_count": 68,
   "metadata": {},
   "outputs": [],
   "source": [
    "df.drop('Unnamed: 0', axis=1, inplace=True)\n",
    "\n",
    "df.to_csv('Final_df_with_summaries_and_test_summaries.csv', index=False)"
   ]
  },
  {
   "cell_type": "markdown",
   "metadata": {},
   "source": [
    "### **Evaluation Metrics**"
   ]
  },
  {
   "cell_type": "code",
   "execution_count": 70,
   "metadata": {},
   "outputs": [],
   "source": [
    "from rouge_score import rouge_scorer\n",
    "\n",
    "def calculate_rouge_scores(system_summaries, reference_summaries):\n",
    "    scorer = rouge_scorer.RougeScorer(['rouge1', 'rouge2', 'rougeL'], use_stemmer=True)\n",
    "    rouge_scores = []\n",
    "    for system, reference in zip(system_summaries, reference_summaries):\n",
    "        scores = scorer.score(reference, system)\n",
    "        rouge_scores.append(scores)\n",
    "    return rouge_scores\n",
    "\n"
   ]
  },
  {
   "cell_type": "code",
   "execution_count": 71,
   "metadata": {},
   "outputs": [],
   "source": [
    "# Extract the summaries from the DataFrame\n",
    "system_summaries = df['summaries'].dropna().tolist()\n",
    "reference_summaries = df['original_summaries_cleaned_standardized'].dropna().tolist()\n",
    "\n",
    "# Calculate ROUGE scores\n",
    "rouge_scores = calculate_rouge_scores(system_summaries, reference_summaries)"
   ]
  },
  {
   "cell_type": "code",
   "execution_count": 88,
   "metadata": {},
   "outputs": [
    {
     "name": "stdout",
     "output_type": "stream",
     "text": [
      "Best Case ROUGE Scores:\n",
      "rouge1: Precision=0.4516, Recall=0.8889\n",
      "rouge2: Precision=0.3696, Recall=0.8\n",
      "rougeL: Precision=0.4516, Recall=0.8889\n"
     ]
    }
   ],
   "source": [
    "# Initialize max dictionaries\n",
    "max_scores = {\n",
    "    'rouge1': {'fmeasure': 0, 'precision': 0, 'recall': 0},\n",
    "    'rouge2': {'fmeasure': 0, 'precision': 0, 'recall': 0},\n",
    "    'rougeL': {'fmeasure': 0, 'precision': 0, 'recall': 0}\n",
    "}\n",
    "\n",
    "# Process each entry in rouge_scores\n",
    "for score_dict in rouge_scores:\n",
    "    for key, score in score_dict.items():\n",
    "        if key in max_scores:  # Ensure the key is valid\n",
    "            # Update max scores\n",
    "            max_scores[key]['fmeasure'] = max(max_scores[key]['fmeasure'], score.fmeasure)\n",
    "            max_scores[key]['precision'] = max(max_scores[key]['precision'], score.precision)\n",
    "            max_scores[key]['recall'] = max(max_scores[key]['recall'], score.recall)\n",
    "\n",
    "# Print maximum scores\n",
    "print(\"Best Case ROUGE Scores:\")\n",
    "for key, metrics in max_scores.items():\n",
    "    print(f\"{key}: Precision={metrics['precision']:.4}, Recall={metrics['recall']:.4}\")\n",
    "\n"
   ]
  }
 ],
 "metadata": {
  "kernelspec": {
   "display_name": "Python 3",
   "language": "python",
   "name": "python3"
  },
  "language_info": {
   "codemirror_mode": {
    "name": "ipython",
    "version": 3
   },
   "file_extension": ".py",
   "mimetype": "text/x-python",
   "name": "python",
   "nbconvert_exporter": "python",
   "pygments_lexer": "ipython3",
   "version": "3.11.2"
  }
 },
 "nbformat": 4,
 "nbformat_minor": 2
}
