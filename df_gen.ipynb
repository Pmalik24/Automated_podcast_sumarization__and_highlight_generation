{
 "cells": [
  {
   "cell_type": "code",
   "execution_count": 1,
   "metadata": {},
   "outputs": [],
   "source": [
    "import pandas as pd\n",
    "pd.options.display.max_rows = 200\n",
    "import numpy as np \n",
    "# pd.set_option('display.max_colwidth', None)\n",
    "import os"
   ]
  },
  {
   "cell_type": "markdown",
   "metadata": {},
   "source": [
    "# INCLUSIVE\n",
    "# # Joe index 0 to 38\n",
    "\n",
    "# # Ben index 39 to 186\n",
    "\n",
    "# # TAL index 187 to 344\n",
    "\n",
    "# # Huberman index 345 to 543\n"
   ]
  },
  {
   "cell_type": "code",
   "execution_count": null,
   "metadata": {},
   "outputs": [],
   "source": [
    "df = pd.read_csv('final_df_with_cleaned_transcripts.csv')\n",
    "df.rename(columns = {'Unnamed: 0':'Index'}, inplace = True) "
   ]
  },
  {
   "cell_type": "code",
   "execution_count": null,
   "metadata": {},
   "outputs": [],
   "source": [
    "df = df.iloc[39:544]"
   ]
  },
  {
   "cell_type": "code",
   "execution_count": null,
   "metadata": {},
   "outputs": [],
   "source": [
    "file_contents = []\n",
    "\n",
    "for index in df.index:\n",
    "    file_path = f'ALL_GEN_TRANS/{index}.txt'\n",
    "\n",
    "    try:\n",
    "        with open (file_path, 'r') as file:\n",
    "            content = file.read()\n",
    "    \n",
    "    except FileNotFoundError:\n",
    "        content = None\n",
    "\n",
    "    file_contents.append(content)\n",
    "\n",
    "       "
   ]
  },
  {
   "cell_type": "code",
   "execution_count": null,
   "metadata": {},
   "outputs": [],
   "source": [
    "df['generated_transcripts'] = file_contents"
   ]
  },
  {
   "cell_type": "code",
   "execution_count": null,
   "metadata": {},
   "outputs": [],
   "source": [
    "df.to_csv('Summarization_Highlights_DF.csv')"
   ]
  },
  {
   "cell_type": "code",
   "execution_count": 4,
   "metadata": {},
   "outputs": [
    {
     "name": "stdout",
     "output_type": "stream",
     "text": [
      "<class 'pandas.core.frame.DataFrame'>\n",
      "RangeIndex: 505 entries, 0 to 504\n",
      "Data columns (total 10 columns):\n",
      " #   Column                 Non-Null Count  Dtype \n",
      "---  ------                 --------------  ----- \n",
      " 0   Unnamed: 0             505 non-null    int64 \n",
      " 1   Index                  505 non-null    int64 \n",
      " 2   episode_number         505 non-null    int64 \n",
      " 3   title                  505 non-null    object\n",
      " 4   download_url           505 non-null    object\n",
      " 5   publication_date       505 non-null    object\n",
      " 6   transcription_file     505 non-null    object\n",
      " 7   Index.1                505 non-null    int64 \n",
      " 8   transcript             505 non-null    object\n",
      " 9   generated_transcripts  503 non-null    object\n",
      "dtypes: int64(4), object(6)\n",
      "memory usage: 39.6+ KB\n"
     ]
    }
   ],
   "source": [
    "df.info()"
   ]
  },
  {
   "cell_type": "code",
   "execution_count": 5,
   "metadata": {},
   "outputs": [],
   "source": [
    "df.dropna(subset=['generated_transcripts'], inplace=True)"
   ]
  },
  {
   "cell_type": "code",
   "execution_count": 6,
   "metadata": {},
   "outputs": [
    {
     "name": "stdout",
     "output_type": "stream",
     "text": [
      "<class 'pandas.core.frame.DataFrame'>\n",
      "Index: 503 entries, 0 to 504\n",
      "Data columns (total 10 columns):\n",
      " #   Column                 Non-Null Count  Dtype \n",
      "---  ------                 --------------  ----- \n",
      " 0   Unnamed: 0             503 non-null    int64 \n",
      " 1   Index                  503 non-null    int64 \n",
      " 2   episode_number         503 non-null    int64 \n",
      " 3   title                  503 non-null    object\n",
      " 4   download_url           503 non-null    object\n",
      " 5   publication_date       503 non-null    object\n",
      " 6   transcription_file     503 non-null    object\n",
      " 7   Index.1                503 non-null    int64 \n",
      " 8   transcript             503 non-null    object\n",
      " 9   generated_transcripts  503 non-null    object\n",
      "dtypes: int64(4), object(6)\n",
      "memory usage: 43.2+ KB\n"
     ]
    }
   ],
   "source": [
    "df.info()"
   ]
  },
  {
   "cell_type": "code",
   "execution_count": 7,
   "metadata": {},
   "outputs": [],
   "source": [
    "df.drop(['Unnamed: 0', 'Index.1'], axis=1, inplace=True)"
   ]
  },
  {
   "cell_type": "code",
   "execution_count": 8,
   "metadata": {},
   "outputs": [
    {
     "name": "stdout",
     "output_type": "stream",
     "text": [
      "<class 'pandas.core.frame.DataFrame'>\n",
      "Index: 503 entries, 0 to 504\n",
      "Data columns (total 8 columns):\n",
      " #   Column                 Non-Null Count  Dtype \n",
      "---  ------                 --------------  ----- \n",
      " 0   Index                  503 non-null    int64 \n",
      " 1   episode_number         503 non-null    int64 \n",
      " 2   title                  503 non-null    object\n",
      " 3   download_url           503 non-null    object\n",
      " 4   publication_date       503 non-null    object\n",
      " 5   transcription_file     503 non-null    object\n",
      " 6   transcript             503 non-null    object\n",
      " 7   generated_transcripts  503 non-null    object\n",
      "dtypes: int64(2), object(6)\n",
      "memory usage: 35.4+ KB\n"
     ]
    }
   ],
   "source": [
    "df.info()"
   ]
  },
  {
   "cell_type": "code",
   "execution_count": 10,
   "metadata": {},
   "outputs": [],
   "source": [
    "df.rename(columns= {'Index' : 'File_Index'}, inplace=True)"
   ]
  },
  {
   "cell_type": "code",
   "execution_count": 11,
   "metadata": {},
   "outputs": [
    {
     "name": "stdout",
     "output_type": "stream",
     "text": [
      "<class 'pandas.core.frame.DataFrame'>\n",
      "Index: 503 entries, 0 to 504\n",
      "Data columns (total 8 columns):\n",
      " #   Column                 Non-Null Count  Dtype \n",
      "---  ------                 --------------  ----- \n",
      " 0   File_Index             503 non-null    int64 \n",
      " 1   episode_number         503 non-null    int64 \n",
      " 2   title                  503 non-null    object\n",
      " 3   download_url           503 non-null    object\n",
      " 4   publication_date       503 non-null    object\n",
      " 5   transcription_file     503 non-null    object\n",
      " 6   transcript             503 non-null    object\n",
      " 7   generated_transcripts  503 non-null    object\n",
      "dtypes: int64(2), object(6)\n",
      "memory usage: 35.4+ KB\n"
     ]
    }
   ],
   "source": [
    "df.info()"
   ]
  },
  {
   "cell_type": "code",
   "execution_count": 13,
   "metadata": {},
   "outputs": [],
   "source": [
    "# now zipped in Summarization_and_preprocessig_dfs.zip and Summarization_and_preprocessig_dfs_2.zip\n",
    "df.to_csv('Cleaned_S_and_H.csv')"
   ]
  },
  {
   "cell_type": "code",
   "execution_count": null,
   "metadata": {},
   "outputs": [],
   "source": []
  }
 ],
 "metadata": {
  "kernelspec": {
   "display_name": "Python 3",
   "language": "python",
   "name": "python3"
  },
  "language_info": {
   "codemirror_mode": {
    "name": "ipython",
    "version": 3
   },
   "file_extension": ".py",
   "mimetype": "text/x-python",
   "name": "python",
   "nbconvert_exporter": "python",
   "pygments_lexer": "ipython3",
   "version": "3.11.2"
  }
 },
 "nbformat": 4,
 "nbformat_minor": 2
}
